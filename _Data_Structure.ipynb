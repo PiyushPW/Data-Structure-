{
  "cells": [
    {
      "cell_type": "raw",
      "id": "db0c1940-6874-4000-bc95-5c292574ea40",
      "metadata": {
        "id": "db0c1940-6874-4000-bc95-5c292574ea40"
      },
      "source": [
        "#Data structure\n",
        "\n",
        "#1. What are data structures, and why are they important?\n",
        "  - Data structures are organized ways to store, manage, and retrieve data efficiently. They are fundamental building blocks in programming and are used to solve complex problems by organizing data in a way that makes it easier to process.\n",
        "\n",
        "2. Explain the difference between mutable and immutable data types with examples.\n",
        "  -In Python, lists are mutable objects. This means that once a list is created, its elements can be modified, added, or removed.\n",
        "  -Immutable objects are those whose state cannot be modified after they are created. Examples of immutable objects in Python include eg String, Tuples.\n",
        "\n",
        "3.  What are the main differences between lists and tuples in Python?\n",
        "  -Lists are mutable,and are stored in \"[ ]\".\n",
        "  -tuples are immutable are stored in \"( )\".\n",
        "\n",
        "4.  Describe how dictionaries store data?\n",
        "  -Dictionaries in Python are a collection of key-value pairs, where each key is associated with a value. They are mutable, meaning they can be changed after they are created, and they do not allow duplicate keys, ensuring that each key is unique within a dictionary.\n",
        "\n",
        "5.  Why might you use a set instead of a list in Python?\n",
        "  -Using a set instead of a list in Python can be advantageous in certain scenarios due to the unique properties of sets. Here are some key reasons:\n",
        "   1. Uniqueness of Elements\n",
        "   2. Faster Membership Testing\n",
        "   3. Set Operations\n",
        "\n",
        "6.  What is a string in Python, and how is it different from a list?\n",
        "  -A string in Python is a sequence of characters enclosed in either single quotes ('), double quotes (\"), or triple quotes (''' or \"\"\"). Strings are used to represent text data, such as words, sentences, or any combination of characters.\n",
        "  -Stings are sequence of characters , stores in text only , are immutable.\n",
        "  -List are collections of items, Can store multiple data types , are mutable.\n",
        "\n",
        "7. How do tuples ensure data integrity in Python?\n",
        "  -Tuples in Python contribute to data integrity primarily through their immutability and hashability, which make them reliable for specific use cases.\n",
        "\n",
        "8. What is a hash table, and how does it relate to dictionaries in Python?\n",
        "  -A hash table is a data structure that maps keys to values using a hash function. This function computes an index into an array of buckets or slots, from which the desired value can be found. Hash tables are widely used for their efficiency in performing insertions, deletions, and lookups.\n",
        "\n",
        "9. Can lists contain different data types in Python?\n",
        "  -One of the key features of Python lists is their ability to contain heterogeneous data types, meaning that a single list can hold elements of different types.\n",
        "\n",
        "10.  Explain why strings are immutable in Python\n",
        "  - This design choice is intentional and offers several advantages:\n",
        "  1. Memory Efficiency\n",
        "  2. Thread Safety\n",
        "  3. Hashability\n",
        "  4. Predictability\n",
        "  5. Security\n",
        "\n",
        "11.  What advantages do dictionaries offer over lists for certain tasks?\n",
        "  - The primary advantage of dictionaries over lists is their ability to provide fast value retrieval using unique keys. This results in significantly faster data access, especially when dealing with large datasets.\n",
        "\n",
        "12.  Describe a scenario where using a tuple would be preferable over a list?\n",
        "  -A scenario where using a tuple would be preferable over a list is when you need to store a collection of values that should remain constant and not change throughout the program.\n",
        "\n",
        "13.  How do sets handle duplicate values in Python?\n",
        "  -In Python, a set is an unordered collection of unique elements. This means that a set cannot contain duplicate elements. When you try to add a duplicate element to a set, it will be ignored, and the set will remain unchanged.\n",
        "\n",
        "15. Can you modify the elements of a tuple? Explain why or why not?\n",
        "  -You cannot modify the elements of a tuple in Python because tuples are immutable. This means that once a tuple is created, its elements cannot be changed, added, or removed.\n",
        "\n",
        "16.  What is a nested dictionary, and give an example of its use case?\n",
        "  -A nested dictionary in Python is a dictionary inside another dictionary. This allows you to store complex data structures in a single dictionary.\n",
        "\n",
        "17.  Describe the time complexity of accessing elements in a dictionary?\n",
        "  -In Python, dictionaries are implemented as hash tables, which provide an efficient way to store and retrieve data using key-value pairs. The time complexity of various dictionary operations is crucial for optimizing performance in programs.\n",
        "\n",
        "18.  In what situations are lists preferred over dictionaries?\n",
        "  -For quick data look-ups, configurations, or caches, favor dictionaries.\n",
        "  -For ordered collections and sequence operations, such as maintaining a stack or queue, lists are more suitable.\n",
        "\n",
        "19.  Why are dictionaries considered unordered, and how does that affect data retrieval?\n",
        "  -Dictionaries in Python are considered unordered because, historically, they did not maintain the order of the elements as they were added.\n",
        "  How This Affects Data Retrieval:\n",
        "  1. Key-Based Access\n",
        "  2. Iteration Order\n",
        "  3. Performance\n",
        "\n",
        "20.  Explain the difference between a list and a dictionary in terms of data retrieval.\n",
        "  -Lists :- 1. Ordered collection of elements\n",
        "            2.Slower for large data (sequential)\n",
        "            3.When order matters or duplicates are allowed\n",
        "  -Dictionary:- 1. Unordered collection of key-value pairs\n",
        "                2. Faster due to hashing\n",
        "                3. When quick lookups or mappings are needed\n",
        "\n"
      ]
    },
    {
      "cell_type": "code",
      "execution_count": null,
      "id": "fbd681df-627c-440d-80e2-c2e0d19f46aa",
      "metadata": {
        "id": "fbd681df-627c-440d-80e2-c2e0d19f46aa"
      },
      "outputs": [],
      "source": []
    },
    {
      "cell_type": "markdown",
      "source": [
        "#Data structure\n",
        "\n",
        "#1. What are data structures, and why are they important?\n",
        "  - Data structures are organized ways to store, manage, and retrieve data efficiently. They are fundamental building blocks in programming and are used to solve complex problems by organizing data in a way that makes it easier to process.\n",
        "\n",
        "2. Explain the difference between mutable and immutable data types with examples.\n",
        "  -In Python, lists are mutable objects. This means that once a list is created, its elements can be modified, added, or removed.\n",
        "  -Immutable objects are those whose state cannot be modified after they are created. Examples of immutable objects in Python include eg String, Tuples.\n",
        "\n",
        "3.  What are the main differences between lists and tuples in Python?\n",
        "  -Lists are mutable,and are stored in \"[ ]\".\n",
        "  -tuples are immutable are stored in \"( )\".\n",
        "\n",
        "4.  Describe how dictionaries store data?\n",
        "  -Dictionaries in Python are a collection of key-value pairs, where each key is associated with a value. They are mutable, meaning they can be changed after they are created, and they do not allow duplicate keys, ensuring that each key is unique within a dictionary.\n",
        "\n",
        "5.  Why might you use a set instead of a list in Python?\n",
        "  -Using a set instead of a list in Python can be advantageous in certain scenarios due to the unique properties of sets. Here are some key reasons:\n",
        "   1. Uniqueness of Elements\n",
        "   2. Faster Membership Testing\n",
        "   3. Set Operations\n",
        "\n",
        "6.  What is a string in Python, and how is it different from a list?\n",
        "  -A string in Python is a sequence of characters enclosed in either single quotes ('), double quotes (\"), or triple quotes (''' or \"\"\"). Strings are used to represent text data, such as words, sentences, or any combination of characters.\n",
        "  -Stings are sequence of characters , stores in text only , are immutable.\n",
        "  -List are collections of items, Can store multiple data types , are mutable.\n",
        "\n",
        "7. How do tuples ensure data integrity in Python?\n",
        "  -Tuples in Python contribute to data integrity primarily through their immutability and hashability, which make them reliable for specific use cases.\n",
        "\n",
        "8. What is a hash table, and how does it relate to dictionaries in Python?\n",
        "  -A hash table is a data structure that maps keys to values using a hash function. This function computes an index into an array of buckets or slots, from which the desired value can be found. Hash tables are widely used for their efficiency in performing insertions, deletions, and lookups.\n",
        "\n",
        "9. Can lists contain different data types in Python?\n",
        "  -One of the key features of Python lists is their ability to contain heterogeneous data types, meaning that a single list can hold elements of different types.\n",
        "\n",
        "10.  Explain why strings are immutable in Python\n",
        "  - This design choice is intentional and offers several advantages:\n",
        "  1. Memory Efficiency\n",
        "  2. Thread Safety\n",
        "  3. Hashability\n",
        "  4. Predictability\n",
        "  5. Security\n",
        "\n",
        "11.  What advantages do dictionaries offer over lists for certain tasks?\n",
        "  - The primary advantage of dictionaries over lists is their ability to provide fast value retrieval using unique keys. This results in significantly faster data access, especially when dealing with large datasets.\n",
        "\n",
        "12.  Describe a scenario where using a tuple would be preferable over a list?\n",
        "  -A scenario where using a tuple would be preferable over a list is when you need to store a collection of values that should remain constant and not change throughout the program.\n",
        "\n",
        "13.  How do sets handle duplicate values in Python?\n",
        "  -In Python, a set is an unordered collection of unique elements. This means that a set cannot contain duplicate elements. When you try to add a duplicate element to a set, it will be ignored, and the set will remain unchanged.\n",
        "\n",
        "15. Can you modify the elements of a tuple? Explain why or why not?\n",
        "  -You cannot modify the elements of a tuple in Python because tuples are immutable. This means that once a tuple is created, its elements cannot be changed, added, or removed.\n",
        "\n",
        "16.  What is a nested dictionary, and give an example of its use case?\n",
        "  -A nested dictionary in Python is a dictionary inside another dictionary. This allows you to store complex data structures in a single dictionary.\n",
        "\n",
        "17.  Describe the time complexity of accessing elements in a dictionary?\n",
        "  -In Python, dictionaries are implemented as hash tables, which provide an efficient way to store and retrieve data using key-value pairs. The time complexity of various dictionary operations is crucial for optimizing performance in programs.\n",
        "\n",
        "18.  In what situations are lists preferred over dictionaries?\n",
        "  -For quick data look-ups, configurations, or caches, favor dictionaries.\n",
        "  -For ordered collections and sequence operations, such as maintaining a stack or queue, lists are more suitable.\n",
        "\n",
        "19.  Why are dictionaries considered unordered, and how does that affect data retrieval?\n",
        "  -Dictionaries in Python are considered unordered because, historically, they did not maintain the order of the elements as they were added.\n",
        "  How This Affects Data Retrieval:\n",
        "  1. Key-Based Access\n",
        "  2. Iteration Order\n",
        "  3. Performance\n",
        "\n",
        "20.  Explain the difference between a list and a dictionary in terms of data retrieval.\n",
        "  -Lists :- 1. Ordered collection of elements\n",
        "            2.Slower for large data (sequential)\n",
        "            3.When order matters or duplicates are allowed\n",
        "  -Dictionary:- 1. Unordered collection of key-value pairs\n",
        "                2. Faster due to hashing\n",
        "                3. When quick lookups or mappings are needed\n",
        "\n"
      ],
      "metadata": {
        "id": "5dTUdqULEKzg"
      },
      "id": "5dTUdqULEKzg"
    },
    {
      "cell_type": "code",
      "source": [
        "#1\n",
        "a=(\"Piyush Thakur\")\n",
        "print(a)"
      ],
      "metadata": {
        "colab": {
          "base_uri": "https://localhost:8080/"
        },
        "id": "9zSKADRiJm3o",
        "outputId": "f96921cb-a8b7-4f29-987b-d5e5365a6123"
      },
      "id": "9zSKADRiJm3o",
      "execution_count": 1,
      "outputs": [
        {
          "output_type": "stream",
          "name": "stdout",
          "text": [
            "Piyush Thakur\n"
          ]
        }
      ]
    },
    {
      "cell_type": "markdown",
      "source": [],
      "metadata": {
        "id": "58PqYCCIEJ8F"
      },
      "id": "58PqYCCIEJ8F"
    },
    {
      "cell_type": "code",
      "source": [
        "#2\n",
        "string = \"hello world\"\n",
        "length = len(string)\n",
        "print(\"The lenght of string is\", length)"
      ],
      "metadata": {
        "colab": {
          "base_uri": "https://localhost:8080/"
        },
        "id": "U2ePPAUNJud-",
        "outputId": "7c46d72c-f5bc-4569-fc0c-ced77f282968"
      },
      "id": "U2ePPAUNJud-",
      "execution_count": 2,
      "outputs": [
        {
          "output_type": "stream",
          "name": "stdout",
          "text": [
            "The lenght of string is 11\n"
          ]
        }
      ]
    },
    {
      "cell_type": "code",
      "source": [
        "#3\n",
        "# Original string\n",
        "text = \"python programming\"\n",
        "# Slicing the first 3 characters\n",
        "sliced_text = text[:3]\n",
        "print(sliced_text)\n"
      ],
      "metadata": {
        "colab": {
          "base_uri": "https://localhost:8080/"
        },
        "id": "XQFbDxB0KP5-",
        "outputId": "d03cf1ab-f884-43ae-efc1-22c2a78872ab"
      },
      "id": "XQFbDxB0KP5-",
      "execution_count": 5,
      "outputs": [
        {
          "output_type": "stream",
          "name": "stdout",
          "text": [
            "pyt\n"
          ]
        }
      ]
    },
    {
      "cell_type": "code",
      "source": [
        "#4\n",
        "# Convert string to uppercase\n",
        "text = \"hello\"\n",
        "uppercase_text = text.upper()\n",
        "print(uppercase_text)\n",
        "\n"
      ],
      "metadata": {
        "colab": {
          "base_uri": "https://localhost:8080/"
        },
        "id": "8skiuGsmKWu4",
        "outputId": "5fdbfdd6-6688-4144-eefd-66b95d0db1cb"
      },
      "id": "8skiuGsmKWu4",
      "execution_count": 6,
      "outputs": [
        {
          "output_type": "stream",
          "name": "stdout",
          "text": [
            "HELLO\n"
          ]
        }
      ]
    },
    {
      "cell_type": "code",
      "source": [
        "#5\n",
        "text = \"I like apple\"\n",
        "updated_text = text.replace(\"apple\", \"orange\")\n",
        "print(updated_text)\n"
      ],
      "metadata": {
        "colab": {
          "base_uri": "https://localhost:8080/"
        },
        "id": "0VvRf3jzLFEW",
        "outputId": "c66cc988-1e9c-4fff-de6b-192d34f731ff"
      },
      "id": "0VvRf3jzLFEW",
      "execution_count": 7,
      "outputs": [
        {
          "output_type": "stream",
          "name": "stdout",
          "text": [
            "I like orange\n"
          ]
        }
      ]
    },
    {
      "cell_type": "code",
      "source": [
        "#6\n",
        "list_of_numbers = [1, 2, 3, 4, 5]\n",
        "\n",
        "print(list_of_numbers)"
      ],
      "metadata": {
        "colab": {
          "base_uri": "https://localhost:8080/"
        },
        "id": "8Nj3e6OkLGqf",
        "outputId": "1884327c-e1ca-418a-9824-9d29e60fefee"
      },
      "id": "8Nj3e6OkLGqf",
      "execution_count": 8,
      "outputs": [
        {
          "output_type": "stream",
          "name": "stdout",
          "text": [
            "[1, 2, 3, 4, 5]\n"
          ]
        }
      ]
    },
    {
      "cell_type": "code",
      "source": [
        "#7\n",
        "my_list = [1, 2, 3, 4, 5]\n",
        "\n",
        "# Append the number 10 to the list\n",
        "my_list.append(10)\n",
        "\n",
        "# Print the updated list\n",
        "print(my_list)\n"
      ],
      "metadata": {
        "colab": {
          "base_uri": "https://localhost:8080/"
        },
        "id": "8uzn5M2mL5hZ",
        "outputId": "b3eff570-9423-485f-ffb8-96a4a733d032"
      },
      "id": "8uzn5M2mL5hZ",
      "execution_count": 9,
      "outputs": [
        {
          "output_type": "stream",
          "name": "stdout",
          "text": [
            "[1, 2, 3, 4, 5, 10]\n"
          ]
        }
      ]
    },
    {
      "cell_type": "code",
      "source": [
        "#8\n",
        "# Original list\n",
        "numbers = [1, 2, 3, 4, 5]\n",
        "\n",
        "# Remove the number 3\n",
        "numbers.remove(3)\n",
        "\n",
        "# Print the updated list\n",
        "print(numbers)\n",
        "\n"
      ],
      "metadata": {
        "colab": {
          "base_uri": "https://localhost:8080/"
        },
        "id": "AI0w2WqyL5e0",
        "outputId": "369eb385-86d7-440d-a03b-c3be590370be"
      },
      "id": "AI0w2WqyL5e0",
      "execution_count": 10,
      "outputs": [
        {
          "output_type": "stream",
          "name": "stdout",
          "text": [
            "[1, 2, 4, 5]\n"
          ]
        }
      ]
    },
    {
      "cell_type": "code",
      "source": [
        "#9\n",
        "my_list = ['a', 'b', 'c', 'd']\n",
        "\n",
        "# Accessing the second element\n",
        "second_element = my_list[1]\n",
        "print(\"The second element is:\", second_element)\n"
      ],
      "metadata": {
        "colab": {
          "base_uri": "https://localhost:8080/"
        },
        "id": "5zNfJrEsL5bq",
        "outputId": "2494d018-1586-4d48-f351-21ad97d3ab28"
      },
      "id": "5zNfJrEsL5bq",
      "execution_count": 12,
      "outputs": [
        {
          "output_type": "stream",
          "name": "stdout",
          "text": [
            "The second element is: b\n"
          ]
        }
      ]
    },
    {
      "cell_type": "code",
      "source": [
        "#10\n",
        "my_list = [1, 2, 3, 4, 5]\n",
        "reversed_list = list(reversed(my_list))\n",
        "print(\"Reversed list:\", reversed_list)\n"
      ],
      "metadata": {
        "colab": {
          "base_uri": "https://localhost:8080/"
        },
        "id": "Ue7v3p6pL5Yn",
        "outputId": "6b048c46-3791-4a56-a6d3-aa50c741ba35"
      },
      "id": "Ue7v3p6pL5Yn",
      "execution_count": 13,
      "outputs": [
        {
          "output_type": "stream",
          "name": "stdout",
          "text": [
            "Reversed list: [5, 4, 3, 2, 1]\n"
          ]
        }
      ]
    },
    {
      "cell_type": "code",
      "source": [
        "#11\n",
        "# Creating a tuple\n",
        "my_tuple = (100, 200, 300)\n",
        "print(my_tuple)\n",
        "type(my_tuple)\n"
      ],
      "metadata": {
        "colab": {
          "base_uri": "https://localhost:8080/"
        },
        "id": "RVg7_zwoL5Vc",
        "outputId": "20ea2ff3-a002-4e42-e620-1512245e1bc0"
      },
      "id": "RVg7_zwoL5Vc",
      "execution_count": 14,
      "outputs": [
        {
          "output_type": "stream",
          "name": "stdout",
          "text": [
            "(100, 200, 300)\n"
          ]
        },
        {
          "output_type": "execute_result",
          "data": {
            "text/plain": [
              "tuple"
            ]
          },
          "metadata": {},
          "execution_count": 14
        }
      ]
    },
    {
      "cell_type": "code",
      "source": [
        "#12\n",
        "# Define the tuple\n",
        "colors = ('red', 'green', 'blue', 'yellow')\n",
        "\n",
        "# Access the second-to-last element\n",
        "second_to_last = colors[-2]\n",
        "\n",
        "# Print the result\n",
        "print(second_to_last)\n",
        "\n"
      ],
      "metadata": {
        "colab": {
          "base_uri": "https://localhost:8080/"
        },
        "id": "XzCIFlZGL5So",
        "outputId": "e70fd94d-2512-499b-8ae0-6f1b6b0c85c9"
      },
      "id": "XzCIFlZGL5So",
      "execution_count": 15,
      "outputs": [
        {
          "output_type": "stream",
          "name": "stdout",
          "text": [
            "blue\n"
          ]
        }
      ]
    },
    {
      "cell_type": "code",
      "source": [
        "#13\n",
        "# Define the tuple\n",
        "numbers = (10, 20, 5, 15)\n",
        "\n",
        "# Find the minimum number\n",
        "minimum_number = min(numbers)\n",
        "\n",
        "# Print the result\n",
        "print(\"The minimum number in the tuple is:\", minimum_number)\n"
      ],
      "metadata": {
        "colab": {
          "base_uri": "https://localhost:8080/"
        },
        "id": "tMpk2rG5L5KG",
        "outputId": "01fc7958-96da-4e3b-cb23-98820de7028b"
      },
      "id": "tMpk2rG5L5KG",
      "execution_count": 16,
      "outputs": [
        {
          "output_type": "stream",
          "name": "stdout",
          "text": [
            "The minimum number in the tuple is: 5\n"
          ]
        }
      ]
    },
    {
      "cell_type": "code",
      "source": [
        "#14\n",
        "# Define the tuple\n",
        "animals = (\"dog\", \"cat\", \"rabbit\")\n",
        "\n",
        "# Find the index of \"cat\"\n",
        "index_of_cat = animals.index(\"cat\")\n",
        "\n",
        "# Print the result\n",
        "print(f\"The index of 'cat' is: {index_of_cat}\")\n"
      ],
      "metadata": {
        "colab": {
          "base_uri": "https://localhost:8080/"
        },
        "id": "aShyEy3_Nm6r",
        "outputId": "c99541d1-b0ec-4e67-feb6-6115f8bfbe7d"
      },
      "id": "aShyEy3_Nm6r",
      "execution_count": 17,
      "outputs": [
        {
          "output_type": "stream",
          "name": "stdout",
          "text": [
            "The index of 'cat' is: 1\n"
          ]
        }
      ]
    },
    {
      "cell_type": "code",
      "source": [
        "#15\n",
        "# Create a tuple with three fruits\n",
        "fruits = (\"apple\", \"banana\", \"cherry\")\n",
        "\n",
        "# Check if 'kiwi' is in the tuple\n",
        "if \"kiwi\" in fruits:\n",
        "    print(\"Kiwi is in the tuple!\")\n",
        "else:\n",
        "    print(\"Kiwi is not in the tuple.\")\n",
        "\n"
      ],
      "metadata": {
        "colab": {
          "base_uri": "https://localhost:8080/"
        },
        "id": "h6IoRfHNNtRw",
        "outputId": "1b578b0c-7502-4441-a47f-fc3a5fb27443"
      },
      "id": "h6IoRfHNNtRw",
      "execution_count": 18,
      "outputs": [
        {
          "output_type": "stream",
          "name": "stdout",
          "text": [
            "Kiwi is not in the tuple.\n"
          ]
        }
      ]
    },
    {
      "cell_type": "code",
      "source": [
        "#16\n",
        "# Create a set with elements 'a', 'b', 'c'\n",
        "my_set = {'a', 'b', 'c'}\n",
        "\n",
        "# Print the set\n",
        "print(my_set)\n",
        "type(my_set)\n"
      ],
      "metadata": {
        "colab": {
          "base_uri": "https://localhost:8080/"
        },
        "id": "p2DT6cDNN0VD",
        "outputId": "cc84c1b0-68f4-4779-eb5b-4b5bcdb377c0"
      },
      "id": "p2DT6cDNN0VD",
      "execution_count": 20,
      "outputs": [
        {
          "output_type": "stream",
          "name": "stdout",
          "text": [
            "{'b', 'a', 'c'}\n"
          ]
        },
        {
          "output_type": "execute_result",
          "data": {
            "text/plain": [
              "set"
            ]
          },
          "metadata": {},
          "execution_count": 20
        }
      ]
    },
    {
      "cell_type": "code",
      "source": [
        "#17\n",
        "# Define the set\n",
        "my_set = {1, 2, 3, 4, 5}\n",
        "\n",
        "# Clear all elements from the set\n",
        "my_set.clear()\n",
        "\n",
        "# Print the set to confirm it's empty\n",
        "print(my_set)\n"
      ],
      "metadata": {
        "colab": {
          "base_uri": "https://localhost:8080/"
        },
        "id": "X0QAWGoBN64E",
        "outputId": "3aa8991a-5dac-4bfa-9b72-6e1952878b4e"
      },
      "id": "X0QAWGoBN64E",
      "execution_count": 21,
      "outputs": [
        {
          "output_type": "stream",
          "name": "stdout",
          "text": [
            "set()\n"
          ]
        }
      ]
    },
    {
      "cell_type": "code",
      "source": [
        "#18\n",
        "# Define the set\n",
        "my_set = {1, 2, 3, 4}\n",
        "\n",
        "# Remove the element 4\n",
        "my_set.discard(4)\n",
        "\n",
        "# Print the updated set\n",
        "print(my_set)\n"
      ],
      "metadata": {
        "colab": {
          "base_uri": "https://localhost:8080/"
        },
        "id": "7XYk1B8lOJlp",
        "outputId": "b7e4c70c-2b71-4d72-9a85-ec19487facef"
      },
      "id": "7XYk1B8lOJlp",
      "execution_count": 22,
      "outputs": [
        {
          "output_type": "stream",
          "name": "stdout",
          "text": [
            "{1, 2, 3}\n"
          ]
        }
      ]
    },
    {
      "cell_type": "code",
      "source": [
        "#19\n",
        "# Define the sets\n",
        "set1 = {1, 2, 3}\n",
        "set2 = {3, 4, 5}\n",
        "\n",
        "# Find the union of the sets\n",
        "union_set = set1.union(set2)\n",
        "\n",
        "# Print the result\n",
        "print(\"Union of the sets:\", union_set)\n"
      ],
      "metadata": {
        "colab": {
          "base_uri": "https://localhost:8080/"
        },
        "id": "_Th_LitkOVix",
        "outputId": "7f3b130b-11f8-4f4b-fd91-7808aa759033"
      },
      "id": "_Th_LitkOVix",
      "execution_count": 23,
      "outputs": [
        {
          "output_type": "stream",
          "name": "stdout",
          "text": [
            "Union of the sets: {1, 2, 3, 4, 5}\n"
          ]
        }
      ]
    },
    {
      "cell_type": "code",
      "source": [
        "#20\n",
        "# Define the sets\n",
        "set1 = {1, 2, 3}\n",
        "set2 = {2, 3, 4}\n",
        "\n",
        "# Find the intersection\n",
        "intersection = set1.intersection(set2)\n",
        "\n",
        "# Output the result\n",
        "print(\"Intersection:\", intersection)\n"
      ],
      "metadata": {
        "colab": {
          "base_uri": "https://localhost:8080/"
        },
        "id": "WWIoAKi2Occp",
        "outputId": "6e682117-c544-43ae-b800-37abd04992d5"
      },
      "id": "WWIoAKi2Occp",
      "execution_count": 24,
      "outputs": [
        {
          "output_type": "stream",
          "name": "stdout",
          "text": [
            "Intersection: {2, 3}\n"
          ]
        }
      ]
    },
    {
      "cell_type": "code",
      "source": [
        "#21\n",
        "# Creating the dictionary\n",
        "person = {\n",
        "    \"name\": \"Piyush Thakur\",\n",
        "    \"age\": 16,\n",
        "    \"city\": \"Indore \"\n",
        "}\n",
        "\n",
        "# Printing the dictionary\n",
        "print(person)\n"
      ],
      "metadata": {
        "colab": {
          "base_uri": "https://localhost:8080/"
        },
        "id": "R-JLnfe3QoL7",
        "outputId": "c08299f3-8cc6-4ce0-ea35-cb568469711b"
      },
      "id": "R-JLnfe3QoL7",
      "execution_count": 26,
      "outputs": [
        {
          "output_type": "stream",
          "name": "stdout",
          "text": [
            "{'name': 'Piyush Thakur', 'age': 16, 'city': 'Indore '}\n"
          ]
        }
      ]
    },
    {
      "cell_type": "code",
      "source": [
        "#22\n",
        "# Initial dictionary\n",
        "person = {\"name\": \"John\", \"age\": 25}\n",
        "\n",
        "# Adding a new key-value pair\n",
        "person[\"country\"] = \"USA\"\n",
        "\n",
        "# Printing the updated dictionary\n",
        "print(person)\n"
      ],
      "metadata": {
        "colab": {
          "base_uri": "https://localhost:8080/"
        },
        "id": "aDGIIImzQ1qu",
        "outputId": "88b89b92-9d05-4c9f-8308-a0e535ff7b0e"
      },
      "id": "aDGIIImzQ1qu",
      "execution_count": 27,
      "outputs": [
        {
          "output_type": "stream",
          "name": "stdout",
          "text": [
            "{'name': 'John', 'age': 25, 'country': 'USA'}\n"
          ]
        }
      ]
    },
    {
      "cell_type": "code",
      "source": [
        "#23\n",
        "# Define the dictionary\n",
        "person = {\"name\": \"Alice\", \"age\": 30}\n",
        "\n",
        "# Access the value associated with the key \"name\"\n",
        "name_value = person[\"name\"]\n",
        "\n",
        "# Print the value\n",
        "print(name_value)\n"
      ],
      "metadata": {
        "colab": {
          "base_uri": "https://localhost:8080/"
        },
        "id": "4J-fG-N1Q8jI",
        "outputId": "4ed75f0e-62eb-4699-8f4a-8fa98ffa8fbc"
      },
      "id": "4J-fG-N1Q8jI",
      "execution_count": 28,
      "outputs": [
        {
          "output_type": "stream",
          "name": "stdout",
          "text": [
            "Alice\n"
          ]
        }
      ]
    },
    {
      "cell_type": "code",
      "source": [
        "#24\n",
        " # Initial dictionary\n",
        "person = {\"name\": \"bob\", \"age\": 22, \"city\": \"new york\"}\n",
        "\n",
        "# Remove the key 'age' from the dictionary\n",
        "person.pop(\"age\", None)\n",
        "\n",
        "# Print the updated dictionary\n",
        "print(person)\n"
      ],
      "metadata": {
        "colab": {
          "base_uri": "https://localhost:8080/"
        },
        "id": "RoQDFA1sRE58",
        "outputId": "e1988afd-d957-4001-d217-328088ffbb7e"
      },
      "id": "RoQDFA1sRE58",
      "execution_count": 29,
      "outputs": [
        {
          "output_type": "stream",
          "name": "stdout",
          "text": [
            "{'name': 'bob', 'city': 'new york'}\n"
          ]
        }
      ]
    },
    {
      "cell_type": "code",
      "source": [
        "#25\n",
        "# Define the dictionary\n",
        "alice = {\"name\": \"Alice\", \"city\": \"Paris\"}\n",
        "\n",
        "# Check if the key 'city' exists\n",
        "if \"city\" in alice:\n",
        "    print(\"The key 'city' exists in the dictionary.\")\n",
        "else:\n",
        "    print(\"The key 'city' does not exist in the dictionary.\")\n"
      ],
      "metadata": {
        "colab": {
          "base_uri": "https://localhost:8080/"
        },
        "id": "Ns0OWv4XRN8n",
        "outputId": "1b454a6e-bf17-4267-8d3a-66fcc01cad7c"
      },
      "id": "Ns0OWv4XRN8n",
      "execution_count": 30,
      "outputs": [
        {
          "output_type": "stream",
          "name": "stdout",
          "text": [
            "The key 'city' exists in the dictionary.\n"
          ]
        }
      ]
    },
    {
      "cell_type": "code",
      "source": [
        "#26\n",
        "# Creating a list\n",
        "my_list = [1, 2, 3, 4, 5]\n",
        "\n",
        "# Creating a tuple\n",
        "my_tuple = ('apple', 'banana', 'cherry')\n",
        "\n",
        "# Creating a dictionary\n",
        "my_dict = {'name': 'John', 'age': 25, 'city': 'Indore'}\n",
        "\n",
        "# Printing the list, tuple, and dictionary\n",
        "print(\"List:\", my_list)\n",
        "print(\"Tuple:\", my_tuple)\n",
        "print(\"Dictionary:\", my_dict)\n"
      ],
      "metadata": {
        "colab": {
          "base_uri": "https://localhost:8080/"
        },
        "id": "G8uCCQ_jRZ3O",
        "outputId": "8d1dd231-dd94-4da3-80d0-a54ff002ed79"
      },
      "id": "G8uCCQ_jRZ3O",
      "execution_count": 31,
      "outputs": [
        {
          "output_type": "stream",
          "name": "stdout",
          "text": [
            "List: [1, 2, 3, 4, 5]\n",
            "Tuple: ('apple', 'banana', 'cherry')\n",
            "Dictionary: {'name': 'John', 'age': 25, 'city': 'Indore'}\n"
          ]
        }
      ]
    },
    {
      "cell_type": "code",
      "source": [
        "#27\n",
        "import random\n",
        "\n",
        "# Generate a list of 5 random numbers between 1 and 100\n",
        "random_numbers = [random.randint(1, 100) for _ in range(5)]\n",
        "\n",
        "# Sort the list in ascending order\n",
        "random_numbers.sort()\n",
        "\n",
        "# Print the sorted list\n",
        "print(\"Sorted list of random numbers:\", random_numbers)\n"
      ],
      "metadata": {
        "colab": {
          "base_uri": "https://localhost:8080/"
        },
        "id": "1J_Op0BoRid6",
        "outputId": "e536873d-e0cd-4cbf-96fd-b824c8ac806f"
      },
      "id": "1J_Op0BoRid6",
      "execution_count": 32,
      "outputs": [
        {
          "output_type": "stream",
          "name": "stdout",
          "text": [
            "Sorted list of random numbers: [7, 40, 57, 58, 64]\n"
          ]
        }
      ]
    },
    {
      "cell_type": "code",
      "source": [
        "#28\n",
        "# Create a list with strings\n",
        "my_list = [\"apple\", \"banana\", \"cherry\", \"date\", \"elderberry\"]\n",
        "\n",
        "# Print the element at the third index\n",
        "print(\"Element at the third index:\", my_list[3])\n"
      ],
      "metadata": {
        "colab": {
          "base_uri": "https://localhost:8080/"
        },
        "id": "WCenYYWURyEG",
        "outputId": "abfe11ec-addc-4882-d93f-e34d6a412c4f"
      },
      "id": "WCenYYWURyEG",
      "execution_count": 33,
      "outputs": [
        {
          "output_type": "stream",
          "name": "stdout",
          "text": [
            "Element at the third index: date\n"
          ]
        }
      ]
    },
    {
      "cell_type": "code",
      "source": [
        "#29\n",
        "# Define two dictionaries\n",
        "dict1 = {'a': 1, 'b': 2}\n",
        "dict2 = {'c': 3, 'd': 4}\n",
        "\n",
        "# Combine the dictionaries\n",
        "combined_dict = dict1 | dict2\n",
        "\n",
        "# Print the result\n",
        "print(\"Combined Dictionary:\", combined_dict)\n"
      ],
      "metadata": {
        "colab": {
          "base_uri": "https://localhost:8080/"
        },
        "id": "-LfkB-6GR-c_",
        "outputId": "626ab2ef-fa39-4130-fa64-a4db03247e6b"
      },
      "id": "-LfkB-6GR-c_",
      "execution_count": 34,
      "outputs": [
        {
          "output_type": "stream",
          "name": "stdout",
          "text": [
            "Combined Dictionary: {'a': 1, 'b': 2, 'c': 3, 'd': 4}\n"
          ]
        }
      ]
    },
    {
      "cell_type": "code",
      "source": [
        "#30\n",
        "# Example list of strings\n",
        "string_list = [\"apple\", \"banana\", \"cherry\", \"apple\", \"banana\"]\n",
        "\n",
        "# Convert the list to a set\n",
        "string_set = set(string_list)\n",
        "\n",
        "# Print the resulting set\n",
        "print(string_set)\n"
      ],
      "metadata": {
        "colab": {
          "base_uri": "https://localhost:8080/"
        },
        "id": "X4-9ku8VSErO",
        "outputId": "d4bc47d1-34d3-4e62-8998-4244df139e10"
      },
      "id": "X4-9ku8VSErO",
      "execution_count": 35,
      "outputs": [
        {
          "output_type": "stream",
          "name": "stdout",
          "text": [
            "{'banana', 'cherry', 'apple'}\n"
          ]
        }
      ]
    },
    {
      "cell_type": "code",
      "source": [],
      "metadata": {
        "id": "7mm4EAYTSKaI"
      },
      "id": "7mm4EAYTSKaI",
      "execution_count": null,
      "outputs": []
    }
  ],
  "metadata": {
    "kernelspec": {
      "display_name": "Python 3 (ipykernel)",
      "language": "python",
      "name": "python3"
    },
    "language_info": {
      "codemirror_mode": {
        "name": "ipython",
        "version": 3
      },
      "file_extension": ".py",
      "mimetype": "text/x-python",
      "name": "python",
      "nbconvert_exporter": "python",
      "pygments_lexer": "ipython3",
      "version": "3.13.3"
    },
    "colab": {
      "provenance": []
    }
  },
  "nbformat": 4,
  "nbformat_minor": 5
}